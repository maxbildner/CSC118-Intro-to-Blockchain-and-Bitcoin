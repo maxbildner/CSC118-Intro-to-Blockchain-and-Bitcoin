{
 "cells": [
  {
   "cell_type": "markdown",
   "id": "foreign-parish",
   "metadata": {},
   "source": [
    "## CSCI E-118 Introduction to Blockchain and Bitcoin\n",
    "\n",
    "### Introduction to Solidity\n"
   ]
  },
  {
   "cell_type": "markdown",
   "id": "advisory-hopkins",
   "metadata": {},
   "source": [
    "#### Solidity Version Management"
   ]
  },
  {
   "cell_type": "markdown",
   "id": "virgin-express",
   "metadata": {},
   "source": [
    "The [py-solc-x](https://solcx.readthedocs.io/en/latest/index.html) package that we installed provides a python api to the solidity compiler, [solc](https://docs.soliditylang.org/en/v0.8.0/installing-solidity.html).\n",
    "\n",
    "Each version of solidity needs the corresponding compiler version.\n",
    "\n",
    "We can see which versions we currently have."
   ]
  },
  {
   "cell_type": "code",
   "execution_count": 5,
   "id": "mental-match",
   "metadata": {},
   "outputs": [],
   "source": [
    "import solcx"
   ]
  },
  {
   "cell_type": "code",
   "execution_count": 7,
   "id": "living-stewart",
   "metadata": {},
   "outputs": [
    {
     "data": {
      "text/plain": [
       "PosixPath('/home/nodar/.solcx')"
      ]
     },
     "execution_count": 7,
     "metadata": {},
     "output_type": "execute_result"
    }
   ],
   "source": [
    "# here's where solidity installs compiler versions\n",
    "solcx.get_solcx_install_folder()"
   ]
  },
  {
   "cell_type": "markdown",
   "id": "fewer-swimming",
   "metadata": {},
   "source": [
    "We can see which versions of solidity `solc` can compile based on our compiler versions."
   ]
  },
  {
   "cell_type": "code",
   "execution_count": 11,
   "id": "alert-electron",
   "metadata": {},
   "outputs": [
    {
     "name": "stdout",
     "output_type": "stream",
     "text": [
      "solc-v0.8.1\n"
     ]
    }
   ],
   "source": [
    "!ls ~/.solcx"
   ]
  },
  {
   "cell_type": "markdown",
   "id": "designing-invention",
   "metadata": {},
   "source": [
    "Or we can simply do:"
   ]
  },
  {
   "cell_type": "code",
   "execution_count": 10,
   "id": "knowing-tuning",
   "metadata": {},
   "outputs": [
    {
     "data": {
      "text/plain": [
       "[Version('0.8.1')]"
      ]
     },
     "execution_count": 10,
     "metadata": {},
     "output_type": "execute_result"
    }
   ],
   "source": [
    "solcx.get_installed_solc_versions()"
   ]
  },
  {
   "cell_type": "markdown",
   "id": "caring-frame",
   "metadata": {},
   "source": [
    "We can see which version it defaults to:"
   ]
  },
  {
   "cell_type": "code",
   "execution_count": 8,
   "id": "complimentary-illustration",
   "metadata": {},
   "outputs": [
    {
     "data": {
      "text/plain": [
       "Version('0.8.1')"
      ]
     },
     "execution_count": 8,
     "metadata": {},
     "output_type": "execute_result"
    }
   ],
   "source": [
    "solcx.get_solc_version()"
   ]
  },
  {
   "cell_type": "markdown",
   "id": "municipal-insight",
   "metadata": {},
   "source": [
    "We'll be using MINOR version 7, so we'll need to install it. Let's check the most 4 most recent installable versions:"
   ]
  },
  {
   "cell_type": "code",
   "execution_count": 13,
   "id": "chicken-pickup",
   "metadata": {},
   "outputs": [
    {
     "data": {
      "text/plain": [
       "[Version('0.8.1'), Version('0.8.0'), Version('0.7.6'), Version('0.7.5')]"
      ]
     },
     "execution_count": 13,
     "metadata": {},
     "output_type": "execute_result"
    }
   ],
   "source": [
    " solcx.get_installable_solc_versions()[0:4]"
   ]
  },
  {
   "cell_type": "markdown",
   "id": "entitled-jefferson",
   "metadata": {},
   "source": [
    "We'll grap the latest version of `MINOR == 7`, which is version `0.7.6`:"
   ]
  },
  {
   "cell_type": "code",
   "execution_count": 15,
   "id": "approximate-necklace",
   "metadata": {},
   "outputs": [
    {
     "data": {
      "text/plain": [
       "Version('0.7.6')"
      ]
     },
     "execution_count": 15,
     "metadata": {},
     "output_type": "execute_result"
    }
   ],
   "source": [
    "solcx.install_solc(version='0.7.6')"
   ]
  },
  {
   "cell_type": "markdown",
   "id": "meaning-evaluation",
   "metadata": {},
   "source": [
    "After installing, we're still on version `0.8.1`:"
   ]
  },
  {
   "cell_type": "code",
   "execution_count": 16,
   "id": "taken-ambassador",
   "metadata": {},
   "outputs": [
    {
     "data": {
      "text/plain": [
       "Version('0.8.1')"
      ]
     },
     "execution_count": 16,
     "metadata": {},
     "output_type": "execute_result"
    }
   ],
   "source": [
    "solcx.get_solc_version()"
   ]
  },
  {
   "cell_type": "markdown",
   "id": "muslim-honduras",
   "metadata": {},
   "source": [
    "But we can see that version `0.7.6` was indeed installed:"
   ]
  },
  {
   "cell_type": "code",
   "execution_count": 18,
   "id": "handled-airplane",
   "metadata": {},
   "outputs": [
    {
     "data": {
      "text/plain": [
       "[Version('0.8.1'), Version('0.7.6')]"
      ]
     },
     "execution_count": 18,
     "metadata": {},
     "output_type": "execute_result"
    }
   ],
   "source": [
    "solcx.get_installed_solc_versions()"
   ]
  },
  {
   "cell_type": "markdown",
   "id": "necessary-banking",
   "metadata": {},
   "source": [
    "We'll switch to it, and verify that we currectly set it:"
   ]
  },
  {
   "cell_type": "code",
   "execution_count": 19,
   "id": "mechanical-sherman",
   "metadata": {},
   "outputs": [
    {
     "data": {
      "text/plain": [
       "Version('0.7.6')"
      ]
     },
     "execution_count": 19,
     "metadata": {},
     "output_type": "execute_result"
    }
   ],
   "source": [
    "solcx.set_solc_version('0.7.6')\n",
    "solcx.get_solc_version()"
   ]
  },
  {
   "cell_type": "markdown",
   "id": "animal-hampton",
   "metadata": {},
   "source": [
    "#### Compiling Solidity Code"
   ]
  },
  {
   "cell_type": "code",
   "execution_count": null,
   "id": "czech-ceiling",
   "metadata": {},
   "outputs": [],
   "source": [
    "from solcx import set_solc_version\n",
    "set_solc_version('v0.7.6')"
   ]
  },
  {
   "cell_type": "markdown",
   "id": "unlimited-spring",
   "metadata": {},
   "source": [
    "We could write our Solidity code here, but it's better to use a text editor or and IDE.\n",
    "\n",
    "Remix is an online IDE which has syntax highlighting, debugging, and more. We'll write our code here and just place the finished code as a simple string here.\n",
    "\n",
    "Notice that the `pragma` is specified to use version `0.7.x` which matches what we've set our compiler version to."
   ]
  },
  {
   "cell_type": "code",
   "execution_count": 95,
   "id": "accredited-blocking",
   "metadata": {},
   "outputs": [],
   "source": [
    "bank_contract_source = '''\n",
    "// SPDX-License-Identifier: GPL-3.0\n",
    "\n",
    "pragma solidity >=0.7.0 <0.8.0;\n",
    "\n",
    "contract Bank {\n",
    "    \n",
    "    address private owner;\n",
    "    \n",
    "    mapping (address => uint) private balances;\n",
    "    \n",
    "    event LogDeposit(address depositor, uint amount);\n",
    "    \n",
    "    modifier onlyOwner() {\n",
    "        require(msg.sender == owner, \"Caller is not owner\");\n",
    "        _;\n",
    "    }\n",
    "    \n",
    "    constructor() {\n",
    "        owner = msg.sender;\n",
    "    }\n",
    "    \n",
    "    // function internal \n",
    "\n",
    "    function deposit() public payable returns (uint newBalance) {\n",
    "        balances[msg.sender] += msg.value;\n",
    "        emit LogDeposit(msg.sender, msg.value);\n",
    "        return balances[msg.sender];\n",
    "    }\n",
    "    \n",
    "    function attemptSend(address payable account, uint withdrawAmount) internal {\n",
    "        bool sent = account.send(withdrawAmount);\n",
    "        if ( !sent ) {\n",
    "            balances[account] += withdrawAmount;\n",
    "        }\n",
    "    }\n",
    "    \n",
    "    function withdraw(uint withdrawAmount) external returns (uint newBalance) {\n",
    "        if ( balances[msg.sender] >= withdrawAmount ) {\n",
    "            balances[msg.sender] -= withdrawAmount;\n",
    "            attemptSend(msg.sender, withdrawAmount);\n",
    "        }\n",
    "        \n",
    "        return balances[msg.sender];\n",
    "    }\n",
    "    \n",
    "    function balance() public view returns (uint) {\n",
    "        return balances[msg.sender];\n",
    "    }\n",
    "    \n",
    "    function balance(address account) public view onlyOwner returns (uint) {\n",
    "        return balances[account];\n",
    "    }\n",
    "    \n",
    "    fallback () external {\n",
    "        revert();\n",
    "    }\n",
    "}\n",
    "'''"
   ]
  },
  {
   "cell_type": "markdown",
   "id": "seeing-soldier",
   "metadata": {},
   "source": [
    "Since this contract is written in the high-level Solidity language we need to compile it. We can use the `compile_source` function."
   ]
  },
  {
   "cell_type": "code",
   "execution_count": 21,
   "id": "entire-shipping",
   "metadata": {},
   "outputs": [],
   "source": [
    "from solcx import compile_source"
   ]
  },
  {
   "cell_type": "code",
   "execution_count": 96,
   "id": "regulation-assets",
   "metadata": {},
   "outputs": [],
   "source": [
    "compiled_bank_contract = compile_source(bank_contract_source)"
   ]
  },
  {
   "cell_type": "markdown",
   "id": "described-century",
   "metadata": {},
   "source": [
    "Under the hood, `solcx` is passing the contract source code to the solidity compiler, `solc`, through the standard input, `<stdin>`. What is returned by the compiler is the compiled EVM bytecode and also some intermediate representations and metadata. `solcx` returns these results as a nested dictionary, and is referenced through the key `<stdin>:Bank`, where `Bank` is the name of the contract we defined in the source code."
   ]
  },
  {
   "cell_type": "code",
   "execution_count": 97,
   "id": "stuffed-heart",
   "metadata": {},
   "outputs": [
    {
     "data": {
      "text/plain": [
       "dict_keys(['<stdin>:Bank'])"
      ]
     },
     "execution_count": 97,
     "metadata": {},
     "output_type": "execute_result"
    }
   ],
   "source": [
    "compiled_bank_contract.keys()"
   ]
  },
  {
   "cell_type": "markdown",
   "id": "fifteen-costa",
   "metadata": {},
   "source": [
    "If we passed in multiple contracts in the source. They would be referencable by `<stdin>:ContractName`. Accessing the sub-dictionary for our `Bank` contract, we can see a variety of information is returned."
   ]
  },
  {
   "cell_type": "code",
   "execution_count": 98,
   "id": "working-nursery",
   "metadata": {},
   "outputs": [
    {
     "data": {
      "text/plain": [
       "dict_keys(['abi', 'asm', 'bin', 'bin-runtime', 'devdoc', 'generated-sources', 'generated-sources-runtime', 'hashes', 'metadata', 'opcodes', 'srcmap', 'srcmap-runtime', 'storage-layout', 'userdoc', 'ast'])"
      ]
     },
     "execution_count": 98,
     "metadata": {},
     "output_type": "execute_result"
    }
   ],
   "source": [
    "compiled_bank_contract['<stdin>:Bank'].keys()"
   ]
  },
  {
   "cell_type": "markdown",
   "id": "public-charge",
   "metadata": {},
   "source": [
    "For now, we only care about the `abi` and `bin`. `abi` stands for **Application Binary Interface**, it's sort of like an API. It's how external software knows how to interface with the compiled code. The compiled code itself is the `bin` (for binary). Let's inspect them.\n",
    "\n",
    "The `abi` is human and machine readable. It tells you how to interface with the contract."
   ]
  },
  {
   "cell_type": "code",
   "execution_count": 99,
   "id": "bacterial-explorer",
   "metadata": {},
   "outputs": [
    {
     "data": {
      "text/plain": [
       "[{'inputs': [], 'stateMutability': 'nonpayable', 'type': 'constructor'},\n",
       " {'anonymous': False,\n",
       "  'inputs': [{'indexed': False,\n",
       "    'internalType': 'address',\n",
       "    'name': 'depositor',\n",
       "    'type': 'address'},\n",
       "   {'indexed': False,\n",
       "    'internalType': 'uint256',\n",
       "    'name': 'amount',\n",
       "    'type': 'uint256'}],\n",
       "  'name': 'LogDeposit',\n",
       "  'type': 'event'},\n",
       " {'stateMutability': 'nonpayable', 'type': 'fallback'},\n",
       " {'inputs': [],\n",
       "  'name': 'balance',\n",
       "  'outputs': [{'internalType': 'uint256', 'name': '', 'type': 'uint256'}],\n",
       "  'stateMutability': 'view',\n",
       "  'type': 'function'},\n",
       " {'inputs': [{'internalType': 'address',\n",
       "    'name': 'account',\n",
       "    'type': 'address'}],\n",
       "  'name': 'balance',\n",
       "  'outputs': [{'internalType': 'uint256', 'name': '', 'type': 'uint256'}],\n",
       "  'stateMutability': 'view',\n",
       "  'type': 'function'},\n",
       " {'inputs': [],\n",
       "  'name': 'deposit',\n",
       "  'outputs': [{'internalType': 'uint256',\n",
       "    'name': 'newBalance',\n",
       "    'type': 'uint256'}],\n",
       "  'stateMutability': 'payable',\n",
       "  'type': 'function'},\n",
       " {'inputs': [{'internalType': 'uint256',\n",
       "    'name': 'withdrawAmount',\n",
       "    'type': 'uint256'}],\n",
       "  'name': 'withdraw',\n",
       "  'outputs': [{'internalType': 'uint256',\n",
       "    'name': 'newBalance',\n",
       "    'type': 'uint256'}],\n",
       "  'stateMutability': 'nonpayable',\n",
       "  'type': 'function'}]"
      ]
     },
     "execution_count": 99,
     "metadata": {},
     "output_type": "execute_result"
    }
   ],
   "source": [
    "compiled_bank_contract['<stdin>:Bank']['abi']"
   ]
  },
  {
   "cell_type": "markdown",
   "id": "raised-conjunction",
   "metadata": {},
   "source": [
    "`bin` is EVM bytecode. It's readable by machines (the EVM), but not by humans. It's in hexadecimal."
   ]
  },
  {
   "cell_type": "code",
   "execution_count": 122,
   "id": "existing-usage",
   "metadata": {},
   "outputs": [
    {
     "data": {
      "text/plain": [
       "'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'"
      ]
     },
     "execution_count": 122,
     "metadata": {},
     "output_type": "execute_result"
    }
   ],
   "source": [
    "compiled_bank_contract['<stdin>:Bank']['bin']"
   ]
  },
  {
   "cell_type": "markdown",
   "id": "crude-works",
   "metadata": {},
   "source": [
    "Above we placed our contract into a string variable. That's a bit clumsy. We can also store it in a `.sol` file. The `.sol` extension is understood to be Solidity code.\n",
    "\n",
    "We have a `contracts` directory, and in there a `Bank.sol` file. The contents of the file are the same as the contents of the `bank_contract` string.\n",
    "\n",
    "We point solidity to it and compile the contract using `compile_files`. We pass in a list of files, in this case a list of size one for the single bank contract."
   ]
  },
  {
   "cell_type": "code",
   "execution_count": 101,
   "id": "based-mauritius",
   "metadata": {},
   "outputs": [],
   "source": [
    "bank_contract_path = 'contracts/Bank.sol'"
   ]
  },
  {
   "cell_type": "code",
   "execution_count": 102,
   "id": "governmental-brooklyn",
   "metadata": {},
   "outputs": [],
   "source": [
    "from solcx import compile_files"
   ]
  },
  {
   "cell_type": "code",
   "execution_count": 103,
   "id": "economic-dover",
   "metadata": {},
   "outputs": [],
   "source": [
    "compiled_files = compile_files( [bank_contract_path] )"
   ]
  },
  {
   "cell_type": "markdown",
   "id": "combined-reply",
   "metadata": {},
   "source": [
    "We get back a dictionary, as before. This time the keys are different. We didn't pass in a string, so the solidity compiler didn't get the source code from `STDIN`, it got filenames. We reference the dictionary using the key `contracts/Bank.sol:bank`. Again, if we had passed in more files they would be referencable by `ContractPath:ContractName`."
   ]
  },
  {
   "cell_type": "code",
   "execution_count": 104,
   "id": "horizontal-strand",
   "metadata": {},
   "outputs": [
    {
     "data": {
      "text/plain": [
       "dict_keys(['contracts/Bank.sol:Bank'])"
      ]
     },
     "execution_count": 104,
     "metadata": {},
     "output_type": "execute_result"
    }
   ],
   "source": [
    "compiled_files.keys()"
   ]
  },
  {
   "cell_type": "markdown",
   "id": "bearing-dancing",
   "metadata": {},
   "source": [
    "It has the same subdictionary as before."
   ]
  },
  {
   "cell_type": "code",
   "execution_count": 105,
   "id": "organizational-israeli",
   "metadata": {},
   "outputs": [
    {
     "data": {
      "text/plain": [
       "dict_keys(['abi', 'asm', 'bin', 'bin-runtime', 'devdoc', 'generated-sources', 'generated-sources-runtime', 'hashes', 'metadata', 'opcodes', 'srcmap', 'srcmap-runtime', 'storage-layout', 'userdoc', 'ast'])"
      ]
     },
     "execution_count": 105,
     "metadata": {},
     "output_type": "execute_result"
    }
   ],
   "source": [
    "compiled_files[bank_contract_path + ':' + 'Bank'].keys()"
   ]
  },
  {
   "cell_type": "markdown",
   "id": "adverse-marking",
   "metadata": {},
   "source": [
    "We'll extract the `abi` and `bin` for later use."
   ]
  },
  {
   "cell_type": "code",
   "execution_count": 118,
   "id": "committed-serial",
   "metadata": {},
   "outputs": [],
   "source": [
    "bank_abi = compiled_files[bank_contract_path + ':' + 'Bank']['abi']\n",
    "bank_bin = compiled_files[bank_contract_path + ':' + 'Bank']['bin']"
   ]
  },
  {
   "cell_type": "markdown",
   "id": "animal-jesus",
   "metadata": {},
   "source": [
    "#### Interfacing With the Contract"
   ]
  },
  {
   "cell_type": "markdown",
   "id": "meaning-traveler",
   "metadata": {},
   "source": [
    "We installed [web3.py](https://web3py.readthedocs.io/en/stable/) as part of our installations.\n",
    "\n",
    "`web3` is the software we use to interface with contracts and the Ethereum Blockchain. It's not solidity specific. It understands ABIs and EVM bytecode. We used `solc` to produce the ABI and EVM bytecode. We could have used any other language, like Vyper, to produce the ABI and EVM bytecode. So, from here on out we're agnostic about the use of Solidity. Web3 is fairly general. If we were using JavaScript instead of Python, we'd be using web3.js instead of web3.py. If a language is popular enough, someone has probably created a `web3` library in that language. We're using Python, so we'll use `web3.py`.\n",
    "\n",
    "But what about the Blockchain? Web3 connects to the Blockchain using `Providers`. It can do so through IPC, HTTP, or WebSockets. Which one we use depends on how we plan to connect to the Blockcahin. If we were a full node, we'd have some client software, like Geth. We may also use a centralized service that hosts a full node in the cloud for us, such as Infura. For now we're not going to deploy to either the Ethereum mainnet or a testnet, so we don't need to worry about those. We'll instead use a simulated blockchain. These different options are known as backends.\n",
    "\n",
    "We installed `EthereumTesterProvider` as part of our installations. Under the hood, it's using the [eth-tester](https://github.com/ethereum/eth-tester) library as the backend. The `EthereumTesterProvider` creates a simulated Ethereum Blockchain for us. It sets up accounts, and uses all of the main components of the real Ethereum blockchain, just without the Network portion of it.\n",
    "\n",
    "Here's how we intialize `web3` and use the `EthreumTesterProvider` for our backend."
   ]
  },
  {
   "cell_type": "code",
   "execution_count": 63,
   "id": "supposed-rugby",
   "metadata": {},
   "outputs": [],
   "source": [
    "from web3 import Web3, EthereumTesterProvider"
   ]
  },
  {
   "cell_type": "code",
   "execution_count": 64,
   "id": "falling-steering",
   "metadata": {},
   "outputs": [],
   "source": [
    "w3 = Web3(EthereumTesterProvider())"
   ]
  },
  {
   "cell_type": "code",
   "execution_count": 71,
   "id": "organized-journalist",
   "metadata": {},
   "outputs": [
    {
     "data": {
      "text/plain": [
       "'EthereumTester/0.5.0b3/linux/python3.6.12'"
      ]
     },
     "execution_count": 71,
     "metadata": {},
     "output_type": "execute_result"
    }
   ],
   "source": [
    "w3.clientVersion"
   ]
  },
  {
   "cell_type": "code",
   "execution_count": 82,
   "id": "elder-alarm",
   "metadata": {},
   "outputs": [
    {
     "data": {
      "text/plain": [
       "True"
      ]
     },
     "execution_count": 82,
     "metadata": {},
     "output_type": "execute_result"
    }
   ],
   "source": [
    "w3.isConnected()"
   ]
  },
  {
   "cell_type": "markdown",
   "id": "authorized-parks",
   "metadata": {},
   "source": [
    "The `web3.eth` object exposes most of the attributes and methods we'll be using. We can see that `eth-tester` has provided us with some test accounts, each of which has a an address derived from the public key."
   ]
  },
  {
   "cell_type": "code",
   "execution_count": 85,
   "id": "hundred-prison",
   "metadata": {},
   "outputs": [
    {
     "data": {
      "text/plain": [
       "['0x7E5F4552091A69125d5DfCb7b8C2659029395Bdf',\n",
       " '0x2B5AD5c4795c026514f8317c7a215E218DcCD6cF',\n",
       " '0x6813Eb9362372EEF6200f3b1dbC3f819671cBA69',\n",
       " '0x1efF47bc3a10a45D4B230B5d10E37751FE6AA718',\n",
       " '0xe1AB8145F7E55DC933d51a18c793F901A3A0b276',\n",
       " '0xE57bFE9F44b819898F47BF37E5AF72a0783e1141',\n",
       " '0xd41c057fd1c78805AAC12B0A94a405c0461A6FBb',\n",
       " '0xF1F6619B38A98d6De0800F1DefC0a6399eB6d30C',\n",
       " '0xF7Edc8FA1eCc32967F827C9043FcAe6ba73afA5c',\n",
       " '0x4CCeBa2d7D2B4fdcE4304d3e09a1fea9fbEb1528']"
      ]
     },
     "execution_count": 85,
     "metadata": {},
     "output_type": "execute_result"
    }
   ],
   "source": [
    "w3.eth.accounts"
   ]
  },
  {
   "cell_type": "markdown",
   "id": "important-field",
   "metadata": {},
   "source": [
    "We'll use the first one as our default, and switch if necessary. It's not set yet, so we have to set it manually."
   ]
  },
  {
   "cell_type": "code",
   "execution_count": 91,
   "id": "subtle-cincinnati",
   "metadata": {},
   "outputs": [
    {
     "data": {
      "text/plain": [
       "'0x7E5F4552091A69125d5DfCb7b8C2659029395Bdf'"
      ]
     },
     "execution_count": 91,
     "metadata": {},
     "output_type": "execute_result"
    }
   ],
   "source": [
    "w3.eth.default_account = w3.eth.accounts[0]\n",
    "w3.eth.default_account"
   ]
  },
  {
   "cell_type": "markdown",
   "id": "accredited-triple",
   "metadata": {},
   "source": [
    "From now on, if we don't manually specify an account, it will use the one above by default.\n",
    "\n",
    "We'll instantiate a web3 contract object using our compiled bank contract."
   ]
  },
  {
   "cell_type": "code",
   "execution_count": 119,
   "id": "turned-jonathan",
   "metadata": {},
   "outputs": [],
   "source": [
    "bank_contract = w3.eth.contract(abi=bank_abi, bytecode=bank_bin, bytecode_runtime=bank_bin_runtime)"
   ]
  },
  {
   "cell_type": "markdown",
   "id": "turkish-coverage",
   "metadata": {},
   "source": [
    "This object hold our contract data (bytecode) and understands the interface (ABI). It also provides us with convinient methods to interact with it in various way. Most importantly it allows us to easily deploy it to the Blockcahin.\n",
    "\n",
    "The `Bank` contract has a constructor, but it doesn't take in any arguments. We'll reference the constructor, and then call `.transact()` on it to issue the transaction. This deploys the contract to our backend."
   ]
  },
  {
   "cell_type": "code",
   "execution_count": 123,
   "id": "helpful-spelling",
   "metadata": {},
   "outputs": [],
   "source": [
    "tx_hash = bank_contract.constructor().transact()"
   ]
  },
  {
   "cell_type": "markdown",
   "id": "precise-finding",
   "metadata": {},
   "source": [
    "The return value of this transaction is the transaction hash. Deployment to the Blockchain, or any transaction in general, is an asynchronous process. We have to wait for our transaction to be mined, before the results are set in stone. We're using a simulated blockchain, so it's mined immediately, but we still wait for it as if we deployed to the real Blockchain, using `w3.eth.waitForTransactionReceipt`. We get back a transaction receipt. The transaction receipt contains details of the transaction like how much gas was used. Importantly it contains the address that was created when the contract was deployed."
   ]
  },
  {
   "cell_type": "code",
   "execution_count": 125,
   "id": "ceramic-understanding",
   "metadata": {},
   "outputs": [],
   "source": [
    "tx_receipt = w3.eth.waitForTransactionReceipt(tx_hash)"
   ]
  },
  {
   "cell_type": "code",
   "execution_count": 126,
   "id": "statistical-hotel",
   "metadata": {},
   "outputs": [
    {
     "data": {
      "text/plain": [
       "AttributeDict({'transactionHash': HexBytes('0x5a22222c66882239df75935f7476fbf2142afa787e47af779d2ec57819f5a980'),\n",
       " 'transactionIndex': 0,\n",
       " 'blockNumber': 1,\n",
       " 'blockHash': HexBytes('0x7aeaa284cf4a1e0a1b1485dcabe398b4955363bfa2727fb6f921a29213895e79'),\n",
       " 'cumulativeGasUsed': 363960,\n",
       " 'gasUsed': 363960,\n",
       " 'contractAddress': '0xF2E246BB76DF876Cef8b38ae84130F4F55De395b',\n",
       " 'logs': [],\n",
       " 'status': 1})"
      ]
     },
     "execution_count": 126,
     "metadata": {},
     "output_type": "execute_result"
    }
   ],
   "source": [
    "tx_receipt"
   ]
  },
  {
   "cell_type": "markdown",
   "id": "recent-fraud",
   "metadata": {},
   "source": [
    "We'll reinitialize our contract, setting the returned address to our contract object so that we can interface with the deployed version."
   ]
  },
  {
   "cell_type": "code",
   "execution_count": 154,
   "id": "ahead-dining",
   "metadata": {},
   "outputs": [],
   "source": [
    "bank_contract = bank_contract(address=tx_receipt['contractAddress'])"
   ]
  },
  {
   "cell_type": "code",
   "execution_count": 175,
   "id": "dutch-nothing",
   "metadata": {},
   "outputs": [
    {
     "data": {
      "text/plain": [
       "'0xF2E246BB76DF876Cef8b38ae84130F4F55De395b'"
      ]
     },
     "execution_count": 175,
     "metadata": {},
     "output_type": "execute_result"
    }
   ],
   "source": [
    "bank_contract.address"
   ]
  },
  {
   "cell_type": "markdown",
   "id": "abandoned-booking",
   "metadata": {},
   "source": [
    "We have the functions defined by the contract."
   ]
  },
  {
   "cell_type": "code",
   "execution_count": 157,
   "id": "elegant-herald",
   "metadata": {},
   "outputs": [
    {
     "data": {
      "text/plain": [
       "[<Function balance()>,\n",
       " <Function balance(address)>,\n",
       " <Function deposit()>,\n",
       " <Function withdraw(uint256)>]"
      ]
     },
     "execution_count": 157,
     "metadata": {},
     "output_type": "execute_result"
    }
   ],
   "source": [
    "bank_contract.all_functions()"
   ]
  },
  {
   "cell_type": "markdown",
   "id": "determined-twelve",
   "metadata": {},
   "source": [
    "We can issue `call` on functions that don't mutate state (and therefore don't need to be mined)."
   ]
  },
  {
   "cell_type": "code",
   "execution_count": 158,
   "id": "interested-stuart",
   "metadata": {},
   "outputs": [
    {
     "data": {
      "text/plain": [
       "0"
      ]
     },
     "execution_count": 158,
     "metadata": {},
     "output_type": "execute_result"
    }
   ],
   "source": [
    "bank_contract.functions.balance().call()"
   ]
  },
  {
   "cell_type": "markdown",
   "id": "changed-chess",
   "metadata": {},
   "source": [
    "We'll deposit 1 ether. We wrote our contract such that the amout deposit isn't provided by an argument to the function. Instead the amount deposited is passed in the `value` field of the transaction itself, and the contract refrences `msg.value` to extract it. We'll create a `transaction_dict` where we can specify the transaction details. The `value` field is denominated in `wei`. Since we want to send 1 ether, we'll need to convert it. We can use `w3.toWei` for that."
   ]
  },
  {
   "cell_type": "code",
   "execution_count": 173,
   "id": "human-creature",
   "metadata": {},
   "outputs": [
    {
     "data": {
      "text/plain": [
       "1000000000000000000"
      ]
     },
     "execution_count": 173,
     "metadata": {},
     "output_type": "execute_result"
    }
   ],
   "source": [
    "w3.toWei(1,'ether')"
   ]
  },
  {
   "cell_type": "code",
   "execution_count": 178,
   "id": "plastic-legislature",
   "metadata": {},
   "outputs": [],
   "source": [
    "transaction_dict = {\n",
    "#     'from': w3.eth.accounts[0] # default,\n",
    "#     'to': bank_contract.address # default,\n",
    "#     'gas': ,\n",
    "#     'gasPrice': ,\n",
    "    'value': w3.toWei(1, 'ether') # send this much ether as part of transaction\n",
    "}\n",
    "\n",
    "new_balance = bank_contract.functions.deposit().call( transaction_dict )"
   ]
  },
  {
   "cell_type": "code",
   "execution_count": 181,
   "id": "split-woman",
   "metadata": {},
   "outputs": [
    {
     "data": {
      "text/plain": [
       "Decimal('1')"
      ]
     },
     "execution_count": 181,
     "metadata": {},
     "output_type": "execute_result"
    }
   ],
   "source": [
    "w3.fromWei(new_balance, 'ether')"
   ]
  },
  {
   "cell_type": "markdown",
   "id": "downtown-vertical",
   "metadata": {},
   "source": [
    "We got back the new balance of the sender (our default account). We received a value denominated in wei and converted it to ether using `w3.fromWei`.\n",
    "\n",
    "It shows that we got 1 ether as our new balance, which makes sense. But if we check to make sure, we'll see that it hasn't \"stuck\"."
   ]
  },
  {
   "cell_type": "code",
   "execution_count": 182,
   "id": "thrown-edinburgh",
   "metadata": {},
   "outputs": [
    {
     "data": {
      "text/plain": [
       "0"
      ]
     },
     "execution_count": 182,
     "metadata": {},
     "output_type": "execute_result"
    }
   ],
   "source": [
    "bank_contract.functions.balance().call()"
   ]
  },
  {
   "cell_type": "markdown",
   "id": "national-newman",
   "metadata": {},
   "source": [
    "The `Bank.balance()` function shows that there is `0` balance. What gives?\n",
    "\n",
    "The reason is we used `.call()`. We use `.call()` which shows us the results of issuing a transaction by running the code locally. But it doesn't actually issue the transaction to the Blockchain. For that we need to use `.transact()` as we did when we deployed the contract originally.\n",
    "\n",
    "We'll issue the transaction, using the same transaction details as before. Remember that this is going out to the Blockchain, which is an asynchronous process. We get back a transaction hash, and have to wait for the transaction receipt."
   ]
  },
  {
   "cell_type": "code",
   "execution_count": 183,
   "id": "operating-literacy",
   "metadata": {},
   "outputs": [],
   "source": [
    "tx_hash = bank_contract.functions.deposit().transact( transaction_dict )\n",
    "tx_receipt = w3.eth.waitForTransactionReceipt(tx_hash)"
   ]
  },
  {
   "cell_type": "code",
   "execution_count": 184,
   "id": "express-twenty",
   "metadata": {},
   "outputs": [
    {
     "data": {
      "text/plain": [
       "AttributeDict({'transactionHash': HexBytes('0xd5f6b8af23a8496ba5acf1346f2e1b10da80aa59eff64535c7262c641ff2643f'),\n",
       " 'transactionIndex': 0,\n",
       " 'blockNumber': 2,\n",
       " 'blockHash': HexBytes('0x6c131a4817b174eb19f33780baeee7a5dd7147aaa9af8fd77ace9bddc8853398'),\n",
       " 'cumulativeGasUsed': 44429,\n",
       " 'gasUsed': 44429,\n",
       " 'contractAddress': None,\n",
       " 'logs': [AttributeDict({'type': 'mined',\n",
       "   'logIndex': 0,\n",
       "   'transactionIndex': 0,\n",
       "   'transactionHash': HexBytes('0xd5f6b8af23a8496ba5acf1346f2e1b10da80aa59eff64535c7262c641ff2643f'),\n",
       "   'blockHash': HexBytes('0x6c131a4817b174eb19f33780baeee7a5dd7147aaa9af8fd77ace9bddc8853398'),\n",
       "   'blockNumber': 2,\n",
       "   'address': '0xF2E246BB76DF876Cef8b38ae84130F4F55De395b',\n",
       "   'data': '0x0000000000000000000000007e5f4552091a69125d5dfcb7b8c2659029395bdf0000000000000000000000000000000000000000000000000de0b6b3a7640000',\n",
       "   'topics': [HexBytes('0x1b851e1031ef35a238e6c67d0c7991162390df915f70eaf9098dbf0b175a6198')]})],\n",
       " 'status': 1})"
      ]
     },
     "execution_count": 184,
     "metadata": {},
     "output_type": "execute_result"
    }
   ],
   "source": [
    "tx_receipt"
   ]
  },
  {
   "cell_type": "markdown",
   "id": "wireless-alfred",
   "metadata": {},
   "source": [
    "Let's check if it \"stuck\" this time."
   ]
  },
  {
   "cell_type": "code",
   "execution_count": 185,
   "id": "deadly-being",
   "metadata": {},
   "outputs": [
    {
     "data": {
      "text/plain": [
       "1000000000000000000"
      ]
     },
     "execution_count": 185,
     "metadata": {},
     "output_type": "execute_result"
    }
   ],
   "source": [
    "bank_contract.functions.balance().call()"
   ]
  },
  {
   "cell_type": "markdown",
   "id": "brave-token",
   "metadata": {},
   "source": [
    "It did! But let's convert it to ether."
   ]
  },
  {
   "cell_type": "code",
   "execution_count": 186,
   "id": "metropolitan-creek",
   "metadata": {},
   "outputs": [
    {
     "data": {
      "text/plain": [
       "Decimal('1')"
      ]
     },
     "execution_count": 186,
     "metadata": {},
     "output_type": "execute_result"
    }
   ],
   "source": [
    "w3.fromWei( bank_contract.functions.balance().call(), 'ether' )"
   ]
  },
  {
   "cell_type": "markdown",
   "id": "computational-updating",
   "metadata": {},
   "source": [
    "The balance of our default account is now 1 ether, as expected."
   ]
  }
 ],
 "metadata": {
  "kernelspec": {
   "display_name": "Python(block_env)",
   "language": "python",
   "name": "block_env"
  },
  "language_info": {
   "codemirror_mode": {
    "name": "ipython",
    "version": 3
   },
   "file_extension": ".py",
   "mimetype": "text/x-python",
   "name": "python",
   "nbconvert_exporter": "python",
   "pygments_lexer": "ipython3",
   "version": "3.6.12"
  }
 },
 "nbformat": 4,
 "nbformat_minor": 5
}
